{
 "cells": [
  {
   "cell_type": "code",
   "execution_count": 4,
   "metadata": {},
   "outputs": [
    {
     "name": "stdout",
     "output_type": "stream",
     "text": [
      " NN(\n",
      "  (out): Linear(in_features=10, out_features=5, bias=True)\n",
      ")\n",
      "out Linear(in_features=10, out_features=5, bias=True)\n"
     ]
    }
   ],
   "source": [
    "import torch\n",
    "import torch.nn as nn\n",
    "\n",
    "class NN(nn.Module):\n",
    "    def __init__(self, input_size, output_size):\n",
    "        super(NN, self).__init__()\n",
    "        self.out = nn.Linear(input_size, output_size)\n",
    "\n",
    "    def forward(self, x):\n",
    "        x = torch.flatten(x, 1)\n",
    "        x = self.out(x)\n",
    "        return x\n",
    "\n",
    "# Example of using named_children\n",
    "model = NN(input_size=10, output_size=5)\n",
    "for name, module in model.named_modules():\n",
    "    print(name, module)"
   ]
  },
  {
   "cell_type": "code",
   "execution_count": 10,
   "metadata": {},
   "outputs": [
    {
     "name": "stdout",
     "output_type": "stream",
     "text": [
      "Image Shape:    (1, 32, 32)\n",
      "\n",
      "Training Set:   54000 samples\n",
      "Validation Set: 6000 samples\n",
      "Test Set:       10000 samples\n",
      "torch.Size([1, 1, 32, 32])\n"
     ]
    }
   ],
   "source": [
    "from torchvision import datasets, transforms\n",
    "from torch.utils.data import DataLoader, random_split\n",
    "\n",
    "\n",
    "class MNISTloader:\n",
    "    def __init__(\n",
    "        self,\n",
    "        batch_size: int = 64,\n",
    "        data_dir: str = \"./data/\",\n",
    "        num_workers: int = 0,\n",
    "        pin_memory: bool = False,\n",
    "        shuffle: bool = False,\n",
    "        train_val_split: float = 0.1,\n",
    "    ):\n",
    "        self.batch_size = batch_size\n",
    "        self.data_dir = data_dir\n",
    "        self.num_workers = num_workers\n",
    "        self.pin_memory = pin_memory\n",
    "        self.shuffle = shuffle\n",
    "        self.train_val_split = train_val_split\n",
    "\n",
    "        self.setup()\n",
    "\n",
    "    def setup(self):\n",
    "        transform = transforms.Compose(\n",
    "            [\n",
    "                transforms.Resize((32, 32)),\n",
    "                transforms.ToTensor(),\n",
    "                transforms.Normalize(mean=[0.5], std=[0.5]),\n",
    "            ]\n",
    "        )\n",
    "\n",
    "        self.train_dataset = datasets.MNIST(\n",
    "            self.data_dir, train=True, download=True, transform=transform\n",
    "        )\n",
    "        val_split = int(len(self.train_dataset) * self.train_val_split)\n",
    "        train_split = len(self.train_dataset) - val_split\n",
    "\n",
    "        self.train_dataset, self.val_dataset = random_split(\n",
    "            self.train_dataset, [train_split, val_split]\n",
    "        )\n",
    "        self.test_dataset = datasets.MNIST(\n",
    "            self.data_dir, train=False, download=True, transform=transform\n",
    "        )\n",
    "\n",
    "        print(\n",
    "            \"Image Shape:    {}\".format(self.train_dataset[0][0].numpy().shape),\n",
    "            end=\"\\n\\n\",\n",
    "        )\n",
    "        print(\"Training Set:   {} samples\".format(len(self.train_dataset)))\n",
    "        print(\"Validation Set: {} samples\".format(len(self.val_dataset)))\n",
    "        print(\"Test Set:       {} samples\".format(len(self.test_dataset)))\n",
    "\n",
    "    def load(self):\n",
    "        train_loader = DataLoader(\n",
    "            dataset=self.train_dataset,\n",
    "            batch_size=self.batch_size,\n",
    "            num_workers=self.num_workers,\n",
    "            pin_memory=self.pin_memory,\n",
    "            shuffle=self.shuffle,\n",
    "        )\n",
    "\n",
    "        val_loader = DataLoader(\n",
    "            dataset=self.val_dataset,\n",
    "            batch_size=self.batch_size,\n",
    "            num_workers=self.num_workers,\n",
    "            pin_memory=self.pin_memory,\n",
    "            shuffle=self.shuffle,\n",
    "        )\n",
    "\n",
    "        test_loader = DataLoader(\n",
    "            dataset=self.test_dataset,\n",
    "            batch_size=self.batch_size,\n",
    "            num_workers=self.num_workers,\n",
    "            pin_memory=self.pin_memory,\n",
    "            shuffle=self.shuffle,\n",
    "        )\n",
    "\n",
    "        return train_loader, val_loader, test_loader\n",
    "\n",
    "\n",
    "# Load only 1 image\n",
    "train_loader, val_loader, test_loader = MNISTloader(batch_size=1).load()\n",
    "for batch_idx, (data, target) in enumerate(train_loader):\n",
    "    print(data.shape)\n",
    "    break\n"
   ]
  },
  {
   "cell_type": "code",
   "execution_count": 11,
   "metadata": {},
   "outputs": [
    {
     "name": "stdout",
     "output_type": "stream",
     "text": [
      "torch.Size([1, 1, 32, 32])\n"
     ]
    }
   ],
   "source": [
    "print(data.shape)"
   ]
  },
  {
   "cell_type": "code",
   "execution_count": 12,
   "metadata": {},
   "outputs": [
    {
     "data": {
      "text/plain": [
       "<matplotlib.image.AxesImage at 0x7f867502b0d0>"
      ]
     },
     "execution_count": 12,
     "metadata": {},
     "output_type": "execute_result"
    },
    {
     "data": {
      "image/png": "[encoded data removed]",
      "text/plain": [
       "<Figure size 640x480 with 1 Axes>"
      ]
     },
     "metadata": {},
     "output_type": "display_data"
    }
   ],
   "source": [
    "import matplotlib.pyplot as plt\n",
    "\n",
    "# Plot the first image\n",
    "plt.imshow(data[0][0], cmap=\"gray\")"
   ]
  },
  {
   "cell_type": "code",
   "execution_count": 9,
   "metadata": {},
   "outputs": [],
   "source": [
    "import torch\n",
    "import torch.nn as nn\n",
    "import torch.nn.functional as F\n",
    "\n",
    "n = 1024\n",
    "m = 1024\n",
    "\n",
    "X = torch.randn(m,m)\n",
    "W = nn.Parameter(torch.randn(n, m))\n",
    "b = nn.Parameter(torch.randn(n))\n",
    "\n",
    "\n",
    "ref = F.linear(X, W, b)\n",
    "out = F.linear(X, W) + b\n",
    "\n",
    "torch.testing.assert_close(ref, out, msg=lambda msg: f\"{name}:\\n{msg}\")"
   ]
  },
  {
   "cell_type": "code",
   "execution_count": null,
   "metadata": {},
   "outputs": [],
   "source": []
  }
 ],
 "metadata": {
  "kernelspec": {
   "display_name": "env-pipegoose",
   "language": "python",
   "name": "python3"
  },
  "language_info": {
   "codemirror_mode": {
    "name": "ipython",
    "version": 3
   },
   "file_extension": ".py",
   "mimetype": "text/x-python",
   "name": "python",
   "nbconvert_exporter": "python",
   "pygments_lexer": "ipython3",
   "version": "3.9.2"
  },
  "orig_nbformat": 4
 },
 "nbformat": 4,
 "nbformat_minor": 2
}
